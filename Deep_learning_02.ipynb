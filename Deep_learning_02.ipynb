{
  "nbformat": 4,
  "nbformat_minor": 0,
  "metadata": {
    "colab": {
      "provenance": [],
      "authorship_tag": "ABX9TyMqS01x4xu/svLnQ3fxGVfp",
      "include_colab_link": true
    },
    "kernelspec": {
      "name": "python3",
      "display_name": "Python 3"
    },
    "language_info": {
      "name": "python"
    }
  },
  "cells": [
    {
      "cell_type": "markdown",
      "metadata": {
        "id": "view-in-github",
        "colab_type": "text"
      },
      "source": [
        "<a href=\"https://colab.research.google.com/github/keerthanamg/deep-learning-02/blob/main/Deep_learning_02.ipynb\" target=\"_parent\"><img src=\"https://colab.research.google.com/assets/colab-badge.svg\" alt=\"Open In Colab\"/></a>"
      ]
    },
    {
      "cell_type": "code",
      "source": [
        "import nltk\n",
        "nltk.download('punkt')\n",
        "nltk.download('averaged_perceptron_tagger')\n",
        "nltk.download('maxent_ne_chunker')\n",
        "nltk.download('words')\n",
        "#Uncomment these lines if the specified files aren't downloaded\n",
        "\n",
        "paragraph = input(\"Enter The Paragraph: \")\n",
        "for sentence in nltk.sent_tokenize(paragraph):\n",
        "    for chunk in nltk.ne_chunk(nltk.pos_tag(nltk.word_tokenize(sentence))):\n",
        "        if hasattr(chunk, 'label'):\n",
        "            print(f\"{' '.join(c[0] for c in chunk):<35} {chunk.label()}\")"
      ],
      "metadata": {
        "colab": {
          "base_uri": "https://localhost:8080/"
        },
        "id": "2fgmDG7Z01_T",
        "outputId": "8b70632e-a442-482d-bd24-ffd18c4d4e7a"
      },
      "execution_count": 4,
      "outputs": [
        {
          "output_type": "stream",
          "name": "stderr",
          "text": [
            "[nltk_data] Downloading package punkt to /root/nltk_data...\n",
            "[nltk_data]   Package punkt is already up-to-date!\n",
            "[nltk_data] Downloading package averaged_perceptron_tagger to\n",
            "[nltk_data]     /root/nltk_data...\n",
            "[nltk_data]   Package averaged_perceptron_tagger is already up-to-\n",
            "[nltk_data]       date!\n",
            "[nltk_data] Downloading package maxent_ne_chunker to\n",
            "[nltk_data]     /root/nltk_data...\n",
            "[nltk_data]   Package maxent_ne_chunker is already up-to-date!\n",
            "[nltk_data] Downloading package words to /root/nltk_data...\n",
            "[nltk_data]   Package words is already up-to-date!\n"
          ]
        },
        {
          "output_type": "stream",
          "name": "stdout",
          "text": [
            "Enter The Paragraph: The Kashmir Files is a 2022 Indian Hindi-language drama film, \\ written and directed by Vivek Agnihotri. Produced by Zee Studios, \\ the film is based on the exodus of Kashmiri Pandits during the Kashmir Insurgency, \\ which it portrays as a genocide.\n",
            "Kashmir Files                       ORGANIZATION\n",
            "Indian                              GPE\n",
            "Vivek Agnihotri                     PERSON\n",
            "Zee Studios                         PERSON\n",
            "Kashmiri Pandits                    ORGANIZATION\n",
            "Kashmir Insurgency                  ORGANIZATION\n"
          ]
        }
      ]
    },
    {
      "cell_type": "code",
      "source": [
        "import spacy\n",
        "from spacy import displacy\n",
        "\n",
        "n=spacy.load(\"en_core_web_sm\")\n",
        "\n",
        "a=n(\"My name is Karthik and I am from India\")\n",
        "\n",
        "for word in a.ents:\n",
        "  print(word.text,word.label_)"
      ],
      "metadata": {
        "colab": {
          "base_uri": "https://localhost:8080/"
        },
        "id": "8PpGaYDv1FjS",
        "outputId": "14026f88-443f-413e-9a94-5fe2f8404473"
      },
      "execution_count": 5,
      "outputs": [
        {
          "output_type": "stream",
          "name": "stdout",
          "text": [
            "Karthik PRODUCT\n",
            "India GPE\n"
          ]
        }
      ]
    },
    {
      "cell_type": "code",
      "source": [
        "!python3 --version"
      ],
      "metadata": {
        "colab": {
          "base_uri": "https://localhost:8080/"
        },
        "id": "ejW7cuEt1Ngq",
        "outputId": "0f0df7bc-8512-459f-ebb2-93e7be128e38"
      },
      "execution_count": 6,
      "outputs": [
        {
          "output_type": "stream",
          "name": "stdout",
          "text": [
            "Python 3.10.12\n"
          ]
        }
      ]
    }
  ]
}